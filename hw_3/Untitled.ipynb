{
 "cells": [
  {
   "cell_type": "code",
   "execution_count": 216,
   "metadata": {},
   "outputs": [],
   "source": [
    "import numpy as np\n",
    "from collections import defaultdict\n",
    "from collections import Counter\n",
    "import random\n",
    "import re\n",
    "from copy import deepcopy"
   ]
  },
  {
   "cell_type": "code",
   "execution_count": 217,
   "metadata": {},
   "outputs": [],
   "source": [
    "a = Counter()"
   ]
  },
  {
   "cell_type": "code",
   "execution_count": 218,
   "metadata": {},
   "outputs": [],
   "source": [
    "a.update('a')"
   ]
  },
  {
   "cell_type": "code",
   "execution_count": 219,
   "metadata": {},
   "outputs": [],
   "source": [
    "def check(symbol, alphabet=set('абвгдеёжзийклмнопрстуфхцчшщъыьэюя ')):\n",
    "    return symbol in alphabet"
   ]
  },
  {
   "cell_type": "markdown",
   "metadata": {},
   "source": [
    "# Задание 1"
   ]
  },
  {
   "cell_type": "markdown",
   "metadata": {},
   "source": [
    "Подсчёт для текстов из файла и из переменной"
   ]
  },
  {
   "cell_type": "code",
   "execution_count": 220,
   "metadata": {},
   "outputs": [],
   "source": [
    "def count_file(file):\n",
    "    count = defaultdict(float)\n",
    "    general = 0\n",
    "    with open(file, 'r', encoding=\"utf8\") as f:\n",
    "        for line in f:\n",
    "            for symbol in line:\n",
    "                if check(symbol.lower()):\n",
    "                    count[symbol.lower()] += 1\n",
    "                    general += 1\n",
    "    for key in count.keys():\n",
    "        count[key] /= general\n",
    "    return count\n",
    "        \n",
    "    "
   ]
  },
  {
   "cell_type": "code",
   "execution_count": 221,
   "metadata": {},
   "outputs": [],
   "source": [
    "def count_txt(text):\n",
    "    count = defaultdict(float)\n",
    "    for symb in 'абвгдеёжзийклмнопрстуфхцчшщъыьэюя ':\n",
    "        count[symb] = 0\n",
    "    general = 0\n",
    "    for symbol in text:\n",
    "        if check(symbol.lower()):\n",
    "            count[symbol.lower()] += 1\n",
    "            general += 1\n",
    "    for key in count.keys():\n",
    "        count[key] /= general\n",
    "    return count\n",
    "    "
   ]
  },
  {
   "cell_type": "code",
   "execution_count": 222,
   "metadata": {},
   "outputs": [],
   "source": [
    "corpus = count_file('AnnaKarenina.txt')"
   ]
  },
  {
   "cell_type": "code",
   "execution_count": 223,
   "metadata": {},
   "outputs": [],
   "source": [
    "def create_perm(alphabet=list('абвгдеёжзийклмнопрстуфхцчшщъыьэюя ')): # создать случайную перестановку\n",
    "    temp = alphabet.copy()\n",
    "    random.shuffle(temp)\n",
    "    permutation = dict()\n",
    "    for i in range(len(alphabet)):\n",
    "        permutation[alphabet[i]] = temp[i]\n",
    "    return permutation"
   ]
  },
  {
   "cell_type": "code",
   "execution_count": 224,
   "metadata": {},
   "outputs": [],
   "source": [
    "def encode(text, permutation): # закодировать\n",
    "    res = []\n",
    "    for symb in text:\n",
    "        if symb in permutation:\n",
    "            res.append(permutation[symb])\n",
    "    return ''.join(res)"
   ]
  },
  {
   "cell_type": "code",
   "execution_count": 225,
   "metadata": {},
   "outputs": [],
   "source": [
    "def get_key(text, counter, perm): # раскодировать с помощью частотного анализа символов\n",
    "    txt_count = count_txt(text)\n",
    "    decoder = dict()\n",
    "    corp_arr = sorted(list(counter.items()), key=lambda x: x[1])\n",
    "    text_arr = sorted(list(txt_count.items()), key=lambda x: x[1])\n",
    "    for i in range(len(text_arr)):\n",
    "        decoder[text_arr[i][0]] = corp_arr[i][0]\n",
    "    print(ev(decoder, perm))\n",
    "    return decoder\n",
    "        \n",
    "            \n",
    "            \n",
    "    "
   ]
  },
  {
   "cell_type": "code",
   "execution_count": 362,
   "metadata": {},
   "outputs": [],
   "source": [
    "def decode(text, decoder): # декодировать имея ключ\n",
    "    result = []\n",
    "    for symb in text:\n",
    "        result.append(decoder[symb])\n",
    "    return ''.join(result)"
   ]
  },
  {
   "cell_type": "code",
   "execution_count": 227,
   "metadata": {},
   "outputs": [],
   "source": [
    "def create_test(file, p): # тестовый текст из файла\n",
    "    test = ''\n",
    "    with open(file, 'r', encoding=\"utf8\") as f:\n",
    "        for line in f:\n",
    "            cl_line = \"\".join(c.lower() for c in line if (c.isalpha() or c == ' ') and check(c.lower()))\n",
    "            re.sub(r'\\s+', ' ', cl_line)\n",
    "            if np.random.uniform(0, 1) < p:\n",
    "                test += cl_line\n",
    "    return test.lower()\n",
    "            "
   ]
  },
  {
   "cell_type": "code",
   "execution_count": 228,
   "metadata": {},
   "outputs": [],
   "source": [
    "def ev(dec, perm): # оценить точность декодера\n",
    "    res = 0\n",
    "    for key in dec.keys():\n",
    "        if key == perm[dec[key]]:\n",
    "            res += 1\n",
    "    return res"
   ]
  },
  {
   "cell_type": "code",
   "execution_count": 229,
   "metadata": {},
   "outputs": [],
   "source": [
    "test = create_test('AnnaKarenina.txt', 0.001)"
   ]
  },
  {
   "cell_type": "code",
   "execution_count": 230,
   "metadata": {},
   "outputs": [
    {
     "data": {
      "text/plain": [
       "' так что ж это не важно  сказал сергей иванович задетый за живое и тем что брат его находил неважным то что его занимало и в особенности тем что он очевидно почти не слушал его сейчас придем  крикнул вронский заглянувшему в комнату офицеру и звавшему их к полковому командиругорница была большая с голландскою печью и перегородкой под образами стоял раскрашенный узорами стол лавка и два стула у входа был шкафчик с посудой ставни были закрыты мух было мало и так чисто что левин позаботился о том чтобы ласка бежавшая дорогой и купавшаяся в лужах не натоптала пол и указал ей место в углу у двери оглядев горницу левин вышел на задний двор благовидная молодайка в калошках качая пустыми ведрами на коромысле сбежала впереди его за водой к колодцуи он хотел уйти но теперь она задержала его хорошо после но непременно скажите я не боюсь ничего мне нужно все знать теперь кончено да да удивительно  подтвердили голенищев и анна несмотря на возбужденное состояние в котором он находился замечание о технике больно заскребло на сердце михайлова и он сердито посмотрев на вронского вдруг насупился он часто слышал это слово техника и решительно не понимал что такое под этим разумели он знал что под этим словом разумели механическую способность писать и рисовать совершенно независимую от содержания часто он замечал как и в настоящей похвале что технику противополагали внутреннему достоинству как будто можно было написать хорошо то что было дурно он знал что надо было много внимания и осторожности для того чтобы снимая покров не повредить самого произведения и для того чтобы снять все покровы но искусства писать техники тут никакой не было если бы малому ребенку или его кухарке также открылось то что он видел то и она сумела бы вылущить то что она видит а самый опытный и искусный живописецтехник одною механическою способностью не мог бы написать ничего если бы ему не открылись прежде границы содержания кроме того он видел что если уже говорить о технике то нельзя было его хвалить за нее во всем что он писал и написал он видел режущие ему глаза недостатки происходившие от неосторожности с которою он снимал покровы и которых он теперь уже не мог исправить не испортив всего произведения и почти на всех фигурах и лицах он видел еще остатки не вполне снятых покровов портившие картинукамердинер чувствуя себя невиноватым хотел оправдываться но взглянув на барина понял по его лицу что надо только молчать и поспешно извиваясь опустился на ковер и стал разбирать целые и разбитые рюмки и бутылки нет я вас не буду стеснять вы обо мне не думайте надо развод я напишу ему я вижу что я не могу так жить но я поеду с тобой в москву насколько обещанное возможно       но я как человек верующий не могу в таком важном деле поступить противно христианскому законумногие семьи по годам остаются на старых местах постылых обоим супругам только потому что нет ни полного раздора ни согласияно если это и не удалось'"
      ]
     },
     "execution_count": 230,
     "metadata": {},
     "output_type": "execute_result"
    }
   ],
   "source": [
    "test"
   ]
  },
  {
   "cell_type": "code",
   "execution_count": 231,
   "metadata": {},
   "outputs": [],
   "source": [
    "perm = create_perm()"
   ]
  },
  {
   "cell_type": "code",
   "execution_count": 232,
   "metadata": {},
   "outputs": [],
   "source": [
    "encoded = encode(test, perm)"
   ]
  },
  {
   "cell_type": "code",
   "execution_count": 233,
   "metadata": {},
   "outputs": [
    {
     "data": {
      "text/plain": [
       "'мзбум зёмвмсзёмтщмцбвтёммйубобэмйщдрщгмяцбтёця мобющзегмобмвяцёщмямзщъм зёмхдбзмщрёмтбжёюяэмтщцбвтеъмзём зёмщрёмобтяъбэёмямцмёйёхщттёйзямзщъм зёмётмё щцяютёмфё зямтщмйэнпбэмщрёмйщг бймфдяющъммудяутнэмцдётйуягмобрэитнцпщънмцмуёътбзнмёаяшщднмямоцбцпщънмяжмумфёэуёцёънмуёъбтюяднрёдтяшбмхеэбмхёэьпбимймрёээбтюйуёчмфщ ьчмямфщдщрёдёюуёгмфёюмёхдбобъямйзёиэмдбйудбпщттегмноёдбъямйзёэмэбцубмямюцбмйзнэбмнмцжёюбмхеэмпуба яумймфёйнюёгмйзбцтямхеэямобудеземънжмхеэёмъбэёмямзбум яйзём зёмэщцятмфёобхёзяэйимёмзёъм зёхемэбйубмхщвбцпбимюёдёрёгмямунфбцпбийимцмэнвбжмтщмтбзёфзбэбмфёэмямнубобэмщгмъщйзёмцмнрэнмнмюцщдямёрэиющцмрёдтяшнмэщцятмцепщэмтбмобютягмюцёдмхэбрёцяютбимъёэёюбгубмцмубэёпубжмуб бимфнйзеъямцщюдбъямтбмуёдёъейэщмйхщвбэбмцфщдщюямщрёмобмцёюёгмумуёэёюшнямётмжёзщэмнгзямтёмзщфщдьмётбмобющдвбэбмщрёмжёдёпёмфёйэщмтёмтщфдщъщттёмйубвязщмимтщмхёчйьмтя щрёмътщмтнвтёмцйщмотбзьмзщфщдьмуёт щтёмюбмюбмнюяцязщэьтёммфёюзцщдюяэямрёэщтякщцмямбттбмтщйъёздимтбмцёохнвющттёщмйёйзёитящмцмуёзёдёъмётмтбжёюяэйимобъщ бтящмёмзщжтяущмхёэьтёмобйудщхэёмтбмйщдюшщмъяжбгэёцбмямётмйщдюязёмфёйъёздщцмтбмцдётйуёрёмцюднрмтбйнфяэйимётм бйзёмйэепбэмсзёмйэёцёмзщжтяубмямдщпязщэьтёмтщмфётяъбэм зёмзбуёщмфёюмсзяъмдбонъщэямётмотбэм зёмфёюмсзяъмйэёцёъмдбонъщэямъщжбтя щйунчмйфёйёхтёйзьмфяйбзьмямдяйёцбзьмйёцщдпщттёмтщобцяйяънчмёзмйёющдвбтяим бйзёмётмобъщ бэмубумямцмтбйзёикщгмфёжцбэщм зёмзщжтяунмфдёзяцёфёэбрбэямцтнздщттщънмюёйзёятйзцнмубумхнюзёмъёвтёмхеэёмтбфяйбзьмжёдёпёмзём зёмхеэёмюндтёмётмотбэм зёмтбюёмхеэёмътёрёмцтяъбтяимямёйзёдёвтёйзямюэимзёрём зёхемйтяъбимфёудёцмтщмфёцдщюязьмйбъёрёмфдёяоцщющтяимямюэимзёрём зёхемйтизьмцйщмфёудёцемтёмяйунййзцбмфяйбзьмзщжтяуямзнзмтяубуёгмтщмхеэёмщйэямхемъбэёънмдщхщтунмяэямщрёмунжбдущмзбувщмёзудеэёйьмзём зёмётмцяющэмзёмямётбмйнъщэбмхемцеэнкязьмзём зёмётбмцяюязмбмйбъегмёфезтегмямяйунйтегмвяцёфяйщшзщжтяумёютёчмъщжбтя щйуёчмйфёйёхтёйзьчмтщмъёрмхемтбфяйбзьмтя щрёмщйэямхемщънмтщмёзудеэяйьмфдщвющмрдбтяшемйёющдвбтяимудёъщмзёрёмётмцяющэм зёмщйэямнвщмрёцёдязьмёмзщжтяущмзёмтщэьоимхеэёмщрёмжцбэязьмобмтщщмцёмцйщъм зёмётмфяйбэмямтбфяйбэмётмцяющэмдщвнкящмщънмрэбобмтщюёйзбзуямфдёяйжёюяцпящмёзмтщёйзёдёвтёйзямймуёзёдёчмётмйтяъбэмфёудёцемямуёзёдежмётмзщфщдьмнвщмтщмъёрмяйфдбцязьмтщмяйфёдзяцмцйщрёмфдёяоцщющтяимямфё зямтбмцйщжмаярндбжмямэяшбжмётмцяющэмщкщмёйзбзуямтщмцфёэтщмйтизежмфёудёцёцмфёдзяцпящмубдзятнубъщдюятщдм нцйзцнимйщхимтщцятёцбзеъмжёзщэмёфдбцюецбзьйимтёмцорэитнцмтбмхбдятбмфётиэмфёмщрёмэяшнм зёмтбюёмзёэьуёмъёэ бзьмямфёйфщптёмяоцяцбийьмёфнйзяэйимтбмуёцщдмямйзбэмдбохядбзьмшщэещмямдбохязещмдчъуямямхнзеэуямтщзмимцбймтщмхнюнмйзщйтизьмцемёхёмътщмтщмюнъбгзщмтбюёмдбоцёюмимтбфяпнмщънмимцявнм зёмимтщмъёрнмзбумвязьмтёмимфёщюнмймзёхёгмцмъёйуцнмтбйуёэьуёмёхщкбттёщмцёоъёвтёмммммммтёмимубум щэёцщумцщднчкягмтщмъёрнмцмзбуёъмцбвтёъмющэщмфёйзнфязьмфдёзяцтёмждяйзябтйуёънмобуётнътёрящмйщъьямфёмрёюбъмёйзбчзйимтбмйзбдежмъщйзбжмфёйзеэежмёхёяъмйнфднрбъмзёэьуёмфёзёънм зёмтщзмтямфёэтёрёмдбоюёдбмтямйёрэбйяитёмщйэямсзёмямтщмнюбэёйь'"
      ]
     },
     "execution_count": 233,
     "metadata": {},
     "output_type": "execute_result"
    }
   ],
   "source": [
    "encoded"
   ]
  },
  {
   "cell_type": "code",
   "execution_count": 234,
   "metadata": {},
   "outputs": [
    {
     "name": "stdout",
     "output_type": "stream",
     "text": [
      "20\n"
     ]
    }
   ],
   "source": [
    "decoder = get_key(encoded, corpus, perm)"
   ]
  },
  {
   "cell_type": "code",
   "execution_count": 235,
   "metadata": {},
   "outputs": [],
   "source": [
    "text = decode(encoded, decoder)"
   ]
  },
  {
   "cell_type": "markdown",
   "metadata": {},
   "source": [
    "## Задача 2"
   ]
  },
  {
   "cell_type": "code",
   "execution_count": 270,
   "metadata": {},
   "outputs": [],
   "source": [
    "def count_bigrams(file): #подсчёт биграмм из файла\n",
    "    count = defaultdict(float)\n",
    "    general = 0\n",
    "    with open(file, 'r', encoding=\"utf8\") as f:\n",
    "        for line in f:\n",
    "            l, r = 0, 1\n",
    "            cl_line = \"\".join(c for c in line if c.isalpha() or c == ' ')\n",
    "            for i in range(len(cl_line) - 1):\n",
    "                #print(cl_line)\n",
    "                if check(cl_line[l + i].lower()) and check(cl_line[r + i].lower()):\n",
    "                    count[cl_line[l + i].lower() + cl_line[r + i].lower()] += 1\n",
    "                    general += 1\n",
    "    for key in count.keys():\n",
    "        count[key] /= general\n",
    "    return count\n",
    "    \n",
    "                    \n",
    "    "
   ]
  },
  {
   "cell_type": "code",
   "execution_count": 271,
   "metadata": {},
   "outputs": [],
   "source": [
    "bicorpus = count_bigrams('AnnaKarenina.txt')"
   ]
  },
  {
   "cell_type": "code",
   "execution_count": 272,
   "metadata": {},
   "outputs": [],
   "source": [
    "def count_bigrams_txt(text): # подсчёт биграмм из переменной\n",
    "    count = defaultdict(float)\n",
    "    general = 0\n",
    "    l, r = 0, 1\n",
    "    cl_line = \"\".join(c for c in text if c.isalpha() or c == ' ')\n",
    "    for i in range(len(cl_line) - 1):\n",
    "        if check(cl_line[l + i].lower()) and check(cl_line[r + i].lower()):\n",
    "            count[cl_line[l + i].lower() + cl_line[r + i].lower()] += 1\n",
    "            general += 1\n",
    "    for key in count.keys():\n",
    "        count[key] /= general\n",
    "    return count"
   ]
  },
  {
   "cell_type": "markdown",
   "metadata": {},
   "source": [
    "Решая через обычные биграммы получаются не очень хорошие результаты. Поэтому решил сделать так: расшифровать текст через анализ обычных букв, а потом дорасшифровать, используя биграммы."
   ]
  },
  {
   "cell_type": "code",
   "execution_count": 273,
   "metadata": {},
   "outputs": [],
   "source": [
    "def count_rating(bigrams, bcorpus):\n",
    "    summa = 0\n",
    "    for bigr in bigrams.keys():\n",
    "        summa += abs(bigrams[bigr] - bcorpus[bigr])\n",
    "    return summa"
   ]
  },
  {
   "cell_type": "code",
   "execution_count": 274,
   "metadata": {},
   "outputs": [],
   "source": [
    "def swap(text, symb1, symb2): # заменить два символа в текстте\n",
    "    result = []\n",
    "    for symb in text:\n",
    "        if symb == symb1:\n",
    "            result.append(symb2)\n",
    "        elif symb == symb2:\n",
    "            result.append(symb1)\n",
    "        else:\n",
    "            result.append(symb)\n",
    "    return ''.join(result)"
   ]
  },
  {
   "cell_type": "markdown",
   "metadata": {},
   "source": [
    "Бегаем по возможным перестановкам символов, переставляем, смотрим что получили (анализируя рейтинг биграмм)."
   ]
  },
  {
   "cell_type": "code",
   "execution_count": 275,
   "metadata": {},
   "outputs": [],
   "source": [
    "def bigr_decode(text, decoder, bcorpus, perm): # расшифровка с помощью биграмм\n",
    "    new_text = text\n",
    "    arr = list(decoder.keys())\n",
    "    prev_bigr = count_bigrams_txt(text)\n",
    "    prev_rating = count_rating(prev_bigr, bcorpus)\n",
    "    for step in range(1, 25):\n",
    "        for i in range(len(arr) - step):\n",
    "            decoder[arr[i]], decoder[arr[i+step]] = decoder[arr[i+step]], decoder[arr[i]]\n",
    "            new_text = swap(new_text, decoder[arr[i]], decoder[arr[i+step]])\n",
    "            new_bigr = count_bigrams_txt(new_text)\n",
    "            new_rating = count_rating(new_bigr, bcorpus)\n",
    "            if new_rating < prev_rating:\n",
    "                arr[i], arr[i+step] = arr[i + step], arr[i]\n",
    "                prev_rating = new_rating\n",
    "                prev_bigr = new_bigr\n",
    "            else:\n",
    "                new_text = swap(text, decoder[arr[i]], decoder[arr[i+step]])\n",
    "                decoder[arr[i]], decoder[arr[i+step]] = decoder[arr[i+step]], decoder[arr[i]]\n",
    "                \n",
    "                \n",
    "    print(ev(decoder, perm))\n",
    "    return decoder   "
   ]
  },
  {
   "cell_type": "code",
   "execution_count": 276,
   "metadata": {},
   "outputs": [
    {
     "name": "stdout",
     "output_type": "stream",
     "text": [
      "23\n"
     ]
    }
   ],
   "source": [
    "final_dec = bigr_decode(text, decoder, bicorpus, perm)"
   ]
  },
  {
   "cell_type": "markdown",
   "metadata": {},
   "source": [
    "Точность увеличилась на несколько символов"
   ]
  },
  {
   "cell_type": "code",
   "execution_count": 277,
   "metadata": {},
   "outputs": [
    {
     "data": {
      "text/plain": [
       "' так гто ж щто не важно  сказал сербех ивановиг зауетых за живое и тем гто ьрат ебо найоуил неважным то гто ебо занимало и в осоьенности тем гто он огевиуно погти не слдшал ебо сехгас приуем  крикндл вронских забляндвшемд в комнатд офиэерд и звавшемд ий к полковомд комануирдборниэа ьыла ьолчшая с болланускою пегчю и перебороукох поу оьразами стоял раскрашенных дзорами стол лавка и ува стдла д вйоуа ьыл шкафгик с посдуох ставни ьыли закрыты мдй ьыло мало и так гисто гто левин позаьотился о том гтоьы ласка ьежавшая уоробох и кдпавшаяся в лджай не натоптала пол и дказал ех место в дблд д увери обляуев борниэд левин вышел на зауних увор ьлабовиуная молоуахка в калошкай кагая пдстыми веурами на коромысле сьежала впереуи ебо за воуох к колоуэди он йотел дхти но теперч она зауержала ебо йорошо после но непременно скажите я не ьоюсч нигебо мне нджно все знатч теперч конгено уа уа дуивителчно  поутверуили боленицев и анна несмотря на возьджуенное состояние в котором он найоуился замегание о тейнике ьолчно заскреьло на серуэе мийахлова и он серуито посмотрев на вронскобо вурдб насдпился он гасто слышал щто слово тейника и решителчно не понимал гто такое поу щтим раздмели он знал гто поу щтим словом раздмели мейанигескдю спосоьностч писатч и рисоватч совершенно независимдю от соуержания гасто он замегал как и в настояцех пойвале гто тейникд противополабали вндтреннемд уостоинствд как ьдуто можно ьыло написатч йорошо то гто ьыло удрно он знал гто науо ьыло мнобо внимания и осторожности уля тобо гтоьы снимая покров не повреуитч самобо произвеуения и уля тобо гтоьы снятч все покровы но искдсства писатч тейники тдт никакох не ьыло если ьы маломд реьенкд или ебо кдйарке также открылосч то гто он виуел то и она сдмела ьы вылдцитч то гто она виуит а самых опытных и искдсных живописеэтейник оуною мейанигескою спосоьностчю не моб ьы написатч нигебо если ьы емд не открылисч прежуе браниэы соуержания кроме тобо он виуел гто если дже боворитч о тейнике то нелчзя ьыло ебо йвалитч за нее во всем гто он писал и написал он виуел реждцие емд блаза неуостатки происйоуившие от неосторожности с которою он снимал покровы и который он теперч дже не моб исправитч не испортив всебо произвеуения и погти на всей фибдрай и лиэай он виуел еце остатки не вполне снятый покровов портившие картиндкамеруинер гдвствдя сеья невиноватым йотел оправуыватчся но взбляндв на ьарина понял по ебо лиэд гто науо толчко молгатч и поспешно извиваясч опдстился на ковер и стал разьиратч эелые и разьитые рюмки и ьдтылки нет я вас не ьдуд стеснятч вы оьо мне не удмахте науо развоу я напишд емд я вижд гто я не мобд так житч но я поеуд с тоьох в москвд насколчко оьецанное возможно       но я как геловек вердюцих не мобд в таком важном уеле постдпитч противно йристианскомд закондмнобие семчи по боуам остаются на старый местай постылый оьоим сдпрдбам толчко потомд гто нет ни полнобо разуора ни собласияно если щто и не дуалосч'"
      ]
     },
     "execution_count": 277,
     "metadata": {},
     "output_type": "execute_result"
    }
   ],
   "source": [
    "decode(encoded, final_dec)"
   ]
  },
  {
   "cell_type": "markdown",
   "metadata": {},
   "source": [
    "## Задача 3"
   ]
  },
  {
   "cell_type": "markdown",
   "metadata": {},
   "source": [
    "Теперь время реализовать МСМС алгоритм. За начальное состояние можно взять расшифровку из предыдущих пунктов. Общая идея (доработанный подход из предыдущего пункта) понятна мы делаем случайный шаг от текущего состояния (переставляем две буквы в декодере) если некая функция схожести полученного текста с русским основанная на статистике биграмм увеличивается, то оставляем состояние, если нет то оставляем с вероятностью текущий $\\frac{новый скор}{текущий скор}$ и повторяем этот процесс, параллельно записывая самый наилучший скор и декодер, соответствующий ему. Сложность в выборе скор функции, которая вроде как должна быть пропорциональная вероятности того, что расшифрованный с её помощью текст является русским (а не абракадаброй) (как раз на основе статистики биграмм). В качестве данной функции я пробовал взять сумму квадратов разности по всем биграммам относительной частоты в генеральной совокупности (большой проанализированный текст) и в тексте для расшифровки. А также улучшенную версию этого подхода - деления каждого члена суммы на удвоенной стандартное отклонение данной частоты (тоже заготовленное заранее). Идея состояла в том, что каждая статистика имеет нормальное распределение со средним - \"статистика в большом тексте\" и некоторой дисперсией, которую я пытался посчитать статистически сэмплируя много кусков из основного текста. К сожалению, ничего не сходилось и пришлось лезть за подсказкой в интернет. Там я нашёл статью, которая подтвердила правильность моего подхода к решению и помогла выбрать правильную функцию. $\\prod{A^B}$ где $A$ - это статистика биграммы в общем корпусе текстов, а $B$ - статистика в исследоваемом тексте. Применив эту функцию я получил очень хорошие результаты. Однако, почему она подошла? Мои соображения по этому поводу:использование произведений и степеней хорошо сказывается на порядке величин отностельно друг друга"
   ]
  },
  {
   "cell_type": "code",
   "execution_count": 365,
   "metadata": {},
   "outputs": [],
   "source": [
    "def count_bigrams(file):\n",
    "    count = defaultdict(float)\n",
    "    with open(file, 'r', encoding=\"utf8\") as f:\n",
    "        for line in f:\n",
    "            l, r = 0, 1\n",
    "            cl_line = \"\".join(c for c in line if c.isalpha() or c == ' ')\n",
    "            for i in range(len(cl_line) - 1):\n",
    "                #print(cl_line)\n",
    "                if check(cl_line[l + i].lower()) and check(cl_line[r + i].lower()):\n",
    "                    count[cl_line[l + i].lower() + cl_line[r + i].lower()] += 1\n",
    "    return count"
   ]
  },
  {
   "cell_type": "code",
   "execution_count": 364,
   "metadata": {},
   "outputs": [],
   "source": [
    "def count_bigrams_txt(text):\n",
    "    count = defaultdict(float)\n",
    "    l, r = 0, 1\n",
    "    cl_line = \"\".join(c for c in text if c.isalpha() or c == ' ')\n",
    "    for i in range(len(cl_line) - 1):\n",
    "        if check(cl_line[l + i].lower()) and check(cl_line[r + i].lower()):\n",
    "            count[cl_line[l + i].lower() + cl_line[r + i].lower()] += 1\n",
    "    return count"
   ]
  },
  {
   "cell_type": "code",
   "execution_count": 340,
   "metadata": {},
   "outputs": [],
   "source": [
    "bicorpus = count_bigrams('AnnaKarenina.txt')"
   ]
  },
  {
   "cell_type": "code",
   "execution_count": 341,
   "metadata": {},
   "outputs": [],
   "source": [
    "def score(text, bcorpus):\n",
    "    bigr = count_bigrams_txt(text)\n",
    "    score = 0\n",
    "    for key in bigr.keys():\n",
    "        if key in bcorpus:\n",
    "            score += (np.log(bcorpus[key]) * bigr[key])\n",
    "    return score\n",
    "            "
   ]
  },
  {
   "cell_type": "code",
   "execution_count": 342,
   "metadata": {},
   "outputs": [],
   "source": [
    "def generate_dec(decoder):\n",
    "    arr = list(decoder.keys())\n",
    "    first, second = random.choices(list(range(len(decoder))), k=2)\n",
    "    if first == second:\n",
    "        return generate_dec(decoder)\n",
    "    else:\n",
    "        decoder[arr[first]], decoder[arr[second]] = decoder[arr[second]], decoder[arr[first]]\n",
    "        return decoder"
   ]
  },
  {
   "cell_type": "code",
   "execution_count": 345,
   "metadata": {},
   "outputs": [],
   "source": [
    "def mcmc_decode(enc_txt, decoder, bcorpus, perm, steps):\n",
    "    arr = list(decoder.keys())\n",
    "    best = score(decode(enc_txt, decoder), bcorpus)\n",
    "    best_decoder = deepcopy(decoder)\n",
    "    for i in range(steps):\n",
    "        new_decoder = generate_dec(deepcopy(decoder))\n",
    "        prev_text = decode(enc_txt, decoder)\n",
    "        cur_text = decode(enc_txt, new_decoder)\n",
    "        prev_score = score(prev_text, bcorpus)\n",
    "        cur_score = score(cur_text, bcorpus)\n",
    "        if cur_score > prev_score:\n",
    "            decoder = deepcopy(new_decoder)\n",
    "            if cur_score > best:\n",
    "                #print('kek')\n",
    "                best = cur_score\n",
    "                best_decoder = deepcopy(new_decoder)\n",
    "        else:\n",
    "            a = np.exp(cur_score - prev_score)\n",
    "            if np.random.uniform() < a:\n",
    "                decoder = deepcopy(new_decoder)\n",
    "        \n",
    "        if i % 500 == 0:\n",
    "            print(ev(best_decoder, perm))\n",
    "                  \n",
    "    return best_decoder   "
   ]
  },
  {
   "cell_type": "code",
   "execution_count": 346,
   "metadata": {},
   "outputs": [
    {
     "name": "stdout",
     "output_type": "stream",
     "text": [
      "23\n",
      "30\n",
      "31\n",
      "34\n",
      "34\n",
      "34\n",
      "34\n",
      "34\n",
      "34\n",
      "34\n",
      "34\n",
      "34\n",
      "34\n",
      "34\n",
      "34\n",
      "34\n",
      "34\n",
      "34\n",
      "34\n",
      "34\n"
     ]
    }
   ],
   "source": [
    "d = mcmc_decode(encoded, final_dec, bicorpus, perm, 10000)"
   ]
  },
  {
   "cell_type": "code",
   "execution_count": 347,
   "metadata": {},
   "outputs": [
    {
     "data": {
      "text/plain": [
       "' так что ж это не важно  сказал сергей иванович задетый за живое и тем что брат его находил неважным то что его занимало и в особенности тем что он очевидно почти не слушал его сейчас придем  крикнул вронский заглянувшему в комнату офицеру и звавшему их к полковому командиругорница была большая с голландскою печью и перегородкой под образами стоял раскрашенный узорами стол лавка и два стула у входа был шкафчик с посудой ставни были закрыты мух было мало и так чисто что левин позаботился о том чтобы ласка бежавшая дорогой и купавшаяся в лужах не натоптала пол и указал ей место в углу у двери оглядев горницу левин вышел на задний двор благовидная молодайка в калошках качая пустыми ведрами на коромысле сбежала впереди его за водой к колодцуи он хотел уйти но теперь она задержала его хорошо после но непременно скажите я не боюсь ничего мне нужно все знать теперь кончено да да удивительно  подтвердили голенищев и анна несмотря на возбужденное состояние в котором он находился замечание о технике больно заскребло на сердце михайлова и он сердито посмотрев на вронского вдруг насупился он часто слышал это слово техника и решительно не понимал что такое под этим разумели он знал что под этим словом разумели механическую способность писать и рисовать совершенно независимую от содержания часто он замечал как и в настоящей похвале что технику противополагали внутреннему достоинству как будто можно было написать хорошо то что было дурно он знал что надо было много внимания и осторожности для того чтобы снимая покров не повредить самого произведения и для того чтобы снять все покровы но искусства писать техники тут никакой не было если бы малому ребенку или его кухарке также открылось то что он видел то и она сумела бы вылущить то что она видит а самый опытный и искусный живописецтехник одною механическою способностью не мог бы написать ничего если бы ему не открылись прежде границы содержания кроме того он видел что если уже говорить о технике то нельзя было его хвалить за нее во всем что он писал и написал он видел режущие ему глаза недостатки происходившие от неосторожности с которою он снимал покровы и которых он теперь уже не мог исправить не испортив всего произведения и почти на всех фигурах и лицах он видел еще остатки не вполне снятых покровов портившие картинукамердинер чувствуя себя невиноватым хотел оправдываться но взглянув на барина понял по его лицу что надо только молчать и поспешно извиваясь опустился на ковер и стал разбирать целые и разбитые рюмки и бутылки нет я вас не буду стеснять вы обо мне не думайте надо развод я напишу ему я вижу что я не могу так жить но я поеду с тобой в москву насколько обещанное возможно       но я как человек верующий не могу в таком важном деле поступить противно христианскому законумногие семьи по годам остаются на старых местах постылых обоим супругам только потому что нет ни полного раздора ни согласияно если это и не удалось'"
      ]
     },
     "execution_count": 347,
     "metadata": {},
     "output_type": "execute_result"
    }
   ],
   "source": [
    "decode(encoded, d)"
   ]
  },
  {
   "cell_type": "markdown",
   "metadata": {},
   "source": [
    "Итог - вау"
   ]
  },
  {
   "cell_type": "markdown",
   "metadata": {},
   "source": [
    "## Задание 4"
   ]
  },
  {
   "cell_type": "code",
   "execution_count": 348,
   "metadata": {},
   "outputs": [],
   "source": [
    "encoded = 'დჳჵჂႨშႼႨშჂხჂჲდႨსႹႭჾႣჵისႼჰႨჂჵჂႨႲႹႧჲჂႨსႹႭჾႣჵისႼჰႨჲდႩჳჲႨჇႨႠჲႹქႹႨჳႹႹჱჶდსჂႽႨႩႹჲႹႭႼჰႨჵდქႩႹႨႲႭႹႧჂჲႣჲიႨჳႩႹႭდდႨშჳდქႹႨშႼႨშჳდႨჳხდჵႣჵჂႨႲႭႣშჂჵისႹႨჂႨႲႹჵჇႧჂჲდႨჾႣႩჳჂჾႣჵისႼჰႨჱႣჵჵႨეႣႨႲႹჳჵდხსდდႨႧდჲშდႭჲႹდႨეႣხႣსჂდႨႩჇႭჳႣႨႾႹჲႽႨႩႹსდႧსႹႨႽႨსჂႧდქႹႨსდႨႹჱდჶႣნ'"
   ]
  },
  {
   "cell_type": "code",
   "execution_count": 351,
   "metadata": {},
   "outputs": [],
   "source": [
    "symbols = set()\n",
    "for symb in encoded:\n",
    "    symbols.add(symb)"
   ]
  },
  {
   "cell_type": "code",
   "execution_count": 353,
   "metadata": {},
   "outputs": [
    {
     "data": {
      "text/plain": [
       "28"
      ]
     },
     "execution_count": 353,
     "metadata": {},
     "output_type": "execute_result"
    }
   ],
   "source": [
    "len(symbols)"
   ]
  },
  {
   "cell_type": "markdown",
   "metadata": {},
   "source": [
    "всего возможных символов 34, нужно добавить несколько фиктивных"
   ]
  },
  {
   "cell_type": "code",
   "execution_count": 355,
   "metadata": {},
   "outputs": [],
   "source": [
    "symbols.add('!')\n",
    "symbols.add('@')\n",
    "symbols.add('#')\n",
    "symbols.add('$')\n",
    "symbols.add('%')\n",
    "symbols.add('^')"
   ]
  },
  {
   "cell_type": "code",
   "execution_count": 356,
   "metadata": {},
   "outputs": [],
   "source": [
    "temp = 'абвгдеёжзийклмнопрстуфхцчшщъыьэюя '"
   ]
  },
  {
   "cell_type": "code",
   "execution_count": 358,
   "metadata": {},
   "outputs": [],
   "source": [
    "start_decoder = dict()\n",
    "i = 0\n",
    "for symb in symbols:\n",
    "    start_decoder[symb] = temp[i]\n",
    "    i += 1\n",
    "    "
   ]
  },
  {
   "cell_type": "markdown",
   "metadata": {},
   "source": [
    "Немного исправленная функция без подсчёта правильно отгаданных букв"
   ]
  },
  {
   "cell_type": "code",
   "execution_count": 371,
   "metadata": {},
   "outputs": [],
   "source": [
    "def mcmc_decode(enc_txt, decoder, bcorpus, steps):\n",
    "    arr = list(decoder.keys())\n",
    "    best = score(decode(enc_txt, decoder), bcorpus)\n",
    "    best_decoder = deepcopy(decoder)\n",
    "    for i in range(steps):\n",
    "        new_decoder = generate_dec(deepcopy(decoder))\n",
    "        prev_text = decode(enc_txt, decoder)\n",
    "        cur_text = decode(enc_txt, new_decoder)\n",
    "        prev_score = score(prev_text, bcorpus)\n",
    "        cur_score = score(cur_text, bcorpus)\n",
    "        if cur_score > prev_score:\n",
    "            decoder = deepcopy(new_decoder)\n",
    "            if cur_score > best:\n",
    "                #print('kek')\n",
    "                best = cur_score\n",
    "                best_decoder = deepcopy(new_decoder)\n",
    "        else:\n",
    "            a = np.exp(cur_score - prev_score)\n",
    "            if np.random.uniform() < a:\n",
    "                decoder = deepcopy(new_decoder)\n",
    "        \n",
    "    print(decode(enc_txt, best_decoder))\n",
    "    print('-----------')\n",
    "                  \n",
    "    return best_decoder"
   ]
  },
  {
   "cell_type": "code",
   "execution_count": 373,
   "metadata": {},
   "outputs": [
    {
     "name": "stdout",
     "output_type": "stream",
     "text": [
      "евли сь сичине торкалытью или помни торкалытью недвн у жного вообщетия донорью легдо проминаны вдорее свего сь све вчелали прасилыто и полумине кадвикалытью балл за повлечтее менсерное зачатие дурва хоня дотемто я тимего те обещаш\n",
      "-----------\n"
     ]
    }
   ],
   "source": [
    "decoder = mcmc_decode(encoded, start_decoder, bicorpus, 50000)"
   ]
  },
  {
   "cell_type": "code",
   "execution_count": 374,
   "metadata": {
    "collapsed": true
   },
   "outputs": [
    {
     "data": {
      "text/plain": [
       "{'ჳ': 'в',\n",
       " 'ჲ': 'н',\n",
       " 'ჾ': 'к',\n",
       " 'ჰ': 'ю',\n",
       " 'Ⴈ': ' ',\n",
       " 'Ⴢ': 'и',\n",
       " 'Ⴍ': 'р',\n",
       " 'ს': 'т',\n",
       " 'ე': 'з',\n",
       " 'Ⴝ': 'я',\n",
       " 'Ⴜ': 'ь',\n",
       " 'ხ': 'ч',\n",
       " 'ქ': 'г',\n",
       " 'დ': 'е',\n",
       " 'შ': 'с',\n",
       " '!': 'ъ',\n",
       " '^': 'ё',\n",
       " 'ი': 'ы',\n",
       " 'Ⴇ': 'м',\n",
       " 'Ⴀ': 'ж',\n",
       " 'ჱ': 'б',\n",
       " '$': 'ц',\n",
       " '@': 'ф',\n",
       " 'Ⴧ': 'у',\n",
       " 'ჶ': 'щ',\n",
       " '#': 'й',\n",
       " 'Ⴞ': 'х',\n",
       " '%': 'э',\n",
       " 'Ⴒ': 'п',\n",
       " 'Ⴉ': 'д',\n",
       " 'ნ': 'ш',\n",
       " 'Ⴃ': 'а',\n",
       " 'ჵ': 'л',\n",
       " 'Ⴙ': 'о'}"
      ]
     },
     "execution_count": 374,
     "metadata": {},
     "output_type": "execute_result"
    }
   ],
   "source": [
    "decoder"
   ]
  },
  {
   "cell_type": "markdown",
   "metadata": {},
   "source": [
    "а еще можно подправить немного очевидные замены"
   ]
  },
  {
   "cell_type": "code",
   "execution_count": 375,
   "metadata": {},
   "outputs": [],
   "source": [
    "decoder['ჳ'] = 'c'\n",
    "decoder['შ'] = 'в'\n",
    "decoder['ხ'] = 'д'\n",
    "decoder['Ⴉ'] = 'ч'\n",
    "decoder['ს'] = 'н'\n",
    "decoder['ჲ'] = 'т'\n"
   ]
  },
  {
   "cell_type": "code",
   "execution_count": 376,
   "metadata": {},
   "outputs": [
    {
     "data": {
      "text/plain": [
       "'еcли вь видите норкалынью или помти норкалынью течcт у жтого cообщения чоторью легчо промитаты cчорее вcего вь вcе cделали правилыно и полумите качcикалынью балл за поcледнее метвертое задание чурcа хотя чонемно я нимего не обещаш'"
      ]
     },
     "execution_count": 376,
     "metadata": {},
     "output_type": "execute_result"
    }
   ],
   "source": [
    "decode(encoded, decoder)"
   ]
  },
  {
   "cell_type": "code",
   "execution_count": 377,
   "metadata": {
    "collapsed": true
   },
   "outputs": [
    {
     "data": {
      "text/plain": [
       "{'ჳ': 'c',\n",
       " 'ჲ': 'т',\n",
       " 'ჾ': 'к',\n",
       " 'ჰ': 'ю',\n",
       " 'Ⴈ': ' ',\n",
       " 'Ⴢ': 'и',\n",
       " 'Ⴍ': 'р',\n",
       " 'ს': 'н',\n",
       " 'ე': 'з',\n",
       " 'Ⴝ': 'я',\n",
       " 'Ⴜ': 'ь',\n",
       " 'ხ': 'д',\n",
       " 'ქ': 'г',\n",
       " 'დ': 'е',\n",
       " 'შ': 'в',\n",
       " '!': 'ъ',\n",
       " '^': 'ё',\n",
       " 'ი': 'ы',\n",
       " 'Ⴇ': 'м',\n",
       " 'Ⴀ': 'ж',\n",
       " 'ჱ': 'б',\n",
       " '$': 'ц',\n",
       " '@': 'ф',\n",
       " 'Ⴧ': 'у',\n",
       " 'ჶ': 'щ',\n",
       " '#': 'й',\n",
       " 'Ⴞ': 'х',\n",
       " '%': 'э',\n",
       " 'Ⴒ': 'п',\n",
       " 'Ⴉ': 'ч',\n",
       " 'ნ': 'ш',\n",
       " 'Ⴃ': 'а',\n",
       " 'ჵ': 'л',\n",
       " 'Ⴙ': 'о'}"
      ]
     },
     "execution_count": 377,
     "metadata": {},
     "output_type": "execute_result"
    }
   ],
   "source": [
    "decoder"
   ]
  },
  {
   "cell_type": "code",
   "execution_count": 378,
   "metadata": {},
   "outputs": [],
   "source": [
    "decoder['Ⴉ'] = 'к'\n",
    "decoder['ჾ'] = 'ч'\n",
    "decoder['Ⴀ'] = 'э'\n",
    "decoder['%'] = 'ж'\n",
    "decoder['Ⴇ'] = 'ч'\n",
    "decoder['ჾ'] = 'м'\n",
    "decoder['ი'] = 'ь'\n",
    "decoder['Ⴜ'] = 'ы'"
   ]
  },
  {
   "cell_type": "code",
   "execution_count": 379,
   "metadata": {},
   "outputs": [
    {
     "data": {
      "text/plain": [
       "'еcли вы видите нормальныю или почти нормальныю текcт у этого cообщения которыю легко прочитать cкорее вcего вы вcе cделали правильно и получите макcимальныю балл за поcледнее четвертое задание курcа хотя конечно я ничего не обещаш'"
      ]
     },
     "execution_count": 379,
     "metadata": {},
     "output_type": "execute_result"
    }
   ],
   "source": [
    "decode(encoded, decoder)"
   ]
  },
  {
   "cell_type": "code",
   "execution_count": 380,
   "metadata": {
    "collapsed": true
   },
   "outputs": [
    {
     "data": {
      "text/plain": [
       "{'ჳ': 'c',\n",
       " 'ჲ': 'т',\n",
       " 'ჾ': 'м',\n",
       " 'ჰ': 'ю',\n",
       " 'Ⴈ': ' ',\n",
       " 'Ⴢ': 'и',\n",
       " 'Ⴍ': 'р',\n",
       " 'ს': 'н',\n",
       " 'ე': 'з',\n",
       " 'Ⴝ': 'я',\n",
       " 'Ⴜ': 'ы',\n",
       " 'ხ': 'д',\n",
       " 'ქ': 'г',\n",
       " 'დ': 'е',\n",
       " 'შ': 'в',\n",
       " '!': 'ъ',\n",
       " '^': 'ё',\n",
       " 'ი': 'ь',\n",
       " 'Ⴇ': 'ч',\n",
       " 'Ⴀ': 'э',\n",
       " 'ჱ': 'б',\n",
       " '$': 'ц',\n",
       " '@': 'ф',\n",
       " 'Ⴧ': 'у',\n",
       " 'ჶ': 'щ',\n",
       " '#': 'й',\n",
       " 'Ⴞ': 'х',\n",
       " '%': 'ж',\n",
       " 'Ⴒ': 'п',\n",
       " 'Ⴉ': 'к',\n",
       " 'ნ': 'ш',\n",
       " 'Ⴃ': 'а',\n",
       " 'ჵ': 'л',\n",
       " 'Ⴙ': 'о'}"
      ]
     },
     "execution_count": 380,
     "metadata": {},
     "output_type": "execute_result"
    }
   ],
   "source": [
    "decoder"
   ]
  },
  {
   "cell_type": "code",
   "execution_count": 381,
   "metadata": {},
   "outputs": [],
   "source": [
    "decoder['ჰ'] = 'й'\n",
    "decoder['#'] = 'ш'\n",
    "decoder['ნ'] = 'ю'"
   ]
  },
  {
   "cell_type": "code",
   "execution_count": 382,
   "metadata": {},
   "outputs": [
    {
     "data": {
      "text/plain": [
       "'еcли вы видите нормальный или почти нормальный текcт у этого cообщения который легко прочитать cкорее вcего вы вcе cделали правильно и получите макcимальный балл за поcледнее четвертое задание курcа хотя конечно я ничего не обещаю'"
      ]
     },
     "execution_count": 382,
     "metadata": {},
     "output_type": "execute_result"
    }
   ],
   "source": [
    "decode(encoded, decoder)"
   ]
  },
  {
   "cell_type": "markdown",
   "metadata": {},
   "source": [
    "Полностью расшифрованный текст, используя немного возможностей человеческого мозга:) Метод дал нам текст, с которым можно работать. Было не всё идеально (примерно 10 несовпадений), но это уже круто! Причины неточностей: основной корпус слов может быть немного не из того распределения, очень короткий текст для расшифровки. Более длинные тексты дешифруются практически идеально."
   ]
  },
  {
   "cell_type": "code",
   "execution_count": null,
   "metadata": {},
   "outputs": [],
   "source": []
  }
 ],
 "metadata": {
  "kernelspec": {
   "display_name": "Python 3",
   "language": "python",
   "name": "python3"
  },
  "language_info": {
   "codemirror_mode": {
    "name": "ipython",
    "version": 3
   },
   "file_extension": ".py",
   "mimetype": "text/x-python",
   "name": "python",
   "nbconvert_exporter": "python",
   "pygments_lexer": "ipython3",
   "version": "3.8.5"
  }
 },
 "nbformat": 4,
 "nbformat_minor": 4
}
