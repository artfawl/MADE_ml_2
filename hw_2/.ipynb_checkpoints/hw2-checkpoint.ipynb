{
 "cells": [
  {
   "cell_type": "code",
   "execution_count": 71,
   "metadata": {},
   "outputs": [],
   "source": [
    "import pickle as pkl\n",
    "import pandas as pd\n",
    "import numpy as np\n",
    "import matplotlib.pyplot as plt\n",
    "from collections import defaultdict\n",
    "import random\n",
    "from sklearn.preprocessing import OneHotEncoder as ohe\n",
    "from sklearn.linear_model import LogisticRegression\n",
    "from sklearn.linear_model import LinearRegression\n",
    "from scipy.stats import spearmanr\n",
    "from scipy.stats import kendalltau\n",
    "import math"
   ]
  },
  {
   "cell_type": "code",
   "execution_count": 2,
   "metadata": {},
   "outputs": [],
   "source": [
    "large = 22; med = 16; small = 12\n",
    "params = {'axes.titlesize': large,\n",
    "          'legend.fontsize': med,\n",
    "          'figure.figsize': (16, 10),\n",
    "          'axes.labelsize': med,\n",
    "          'axes.titlesize': med,\n",
    "          'xtick.labelsize': med,\n",
    "          'ytick.labelsize': med,\n",
    "          'figure.titlesize': large}\n",
    "plt.rcParams.update(params)\n",
    "plt.style.use('seaborn-whitegrid')\n",
    "%matplotlib inline"
   ]
  },
  {
   "cell_type": "markdown",
   "metadata": {},
   "source": [
    "## 1 - Обработка данных"
   ]
  },
  {
   "cell_type": "code",
   "execution_count": 3,
   "metadata": {},
   "outputs": [],
   "source": [
    "#results = pd.read_pickle('./results.pkl')\n",
    "#players = pd.read_pickle('./players.pkl')\n",
    "#tour = pd.read_pickle('./tournaments.pkl')\n",
    "#res_lst = list(results.items())\n",
    "#tour_lst = list(tour.items())"
   ]
  },
  {
   "cell_type": "markdown",
   "metadata": {},
   "source": [
    "Выберем турниры 2019 и 2020 года"
   ]
  },
  {
   "cell_type": "code",
   "execution_count": 5,
   "metadata": {},
   "outputs": [],
   "source": [
    "def choose_tournaments(tour_lst):\n",
    "    train_nums = []\n",
    "    test_nums = []\n",
    "    for num, data in tour_lst:\n",
    "        date = int(data['dateStart'][:4])\n",
    "        if date == 2019:\n",
    "            train_nums.append(num)\n",
    "        if date == 2020:\n",
    "            test_nums.append(num)\n",
    "    return train_nums, test_nums\n",
    "        "
   ]
  },
  {
   "cell_type": "code",
   "execution_count": 6,
   "metadata": {},
   "outputs": [],
   "source": [
    "#train_nums, test_nums = choose_tournaments(tour_lst)"
   ]
  },
  {
   "cell_type": "markdown",
   "metadata": {},
   "source": [
    "Функция для составления тестовой таблицы <br>\n",
    "команды по порядку и участники в них"
   ]
  },
  {
   "cell_type": "code",
   "execution_count": 7,
   "metadata": {},
   "outputs": [],
   "source": [
    "def make_table(results, tour, nums):\n",
    "    res = []\n",
    "    for i in range(len(nums)):\n",
    "        result = results[nums[i]]\n",
    "        teams = []\n",
    "        members = []\n",
    "        for j in range(len(result)):\n",
    "            teams.append(result[j]['team']['id'])\n",
    "            members.append([])\n",
    "            for k in range(len(result[j]['teamMembers'])):\n",
    "                members[-1].append(result[j]['teamMembers'][k]['player']['id'])\n",
    "        res.append([nums[i], teams, members])\n",
    "            \n",
    "    return pd.DataFrame(res, columns = ['tour_id', 'teams_id', 'members_id'])"
   ]
  },
  {
   "cell_type": "code",
   "execution_count": 7,
   "metadata": {},
   "outputs": [],
   "source": [
    "#tst = make_table(results, tour, test_nums)"
   ]
  },
  {
   "cell_type": "code",
   "execution_count": 2,
   "metadata": {},
   "outputs": [],
   "source": [
    "tst = pd.read_csv('tst.csv')"
   ]
  },
  {
   "cell_type": "code",
   "execution_count": 3,
   "metadata": {},
   "outputs": [
    {
     "data": {
      "text/html": [
       "<div>\n",
       "<style scoped>\n",
       "    .dataframe tbody tr th:only-of-type {\n",
       "        vertical-align: middle;\n",
       "    }\n",
       "\n",
       "    .dataframe tbody tr th {\n",
       "        vertical-align: top;\n",
       "    }\n",
       "\n",
       "    .dataframe thead th {\n",
       "        text-align: right;\n",
       "    }\n",
       "</style>\n",
       "<table border=\"1\" class=\"dataframe\">\n",
       "  <thead>\n",
       "    <tr style=\"text-align: right;\">\n",
       "      <th></th>\n",
       "      <th>Unnamed: 0</th>\n",
       "      <th>tour_id</th>\n",
       "      <th>teams_id</th>\n",
       "      <th>members_id</th>\n",
       "    </tr>\n",
       "  </thead>\n",
       "  <tbody>\n",
       "    <tr>\n",
       "      <th>0</th>\n",
       "      <td>0</td>\n",
       "      <td>4628</td>\n",
       "      <td>[]</td>\n",
       "      <td>[]</td>\n",
       "    </tr>\n",
       "    <tr>\n",
       "      <th>1</th>\n",
       "      <td>1</td>\n",
       "      <td>4957</td>\n",
       "      <td>[49804, 4109, 3875, 77418, 2, 45367, 4622, 417...</td>\n",
       "      <td>[[30152, 30270, 27822, 28751, 27403, 4270], [3...</td>\n",
       "    </tr>\n",
       "    <tr>\n",
       "      <th>2</th>\n",
       "      <td>2</td>\n",
       "      <td>5151</td>\n",
       "      <td>[]</td>\n",
       "      <td>[]</td>\n",
       "    </tr>\n",
       "    <tr>\n",
       "      <th>3</th>\n",
       "      <td>3</td>\n",
       "      <td>5414</td>\n",
       "      <td>[66120, 312, 2, 72338, 4032, 46381, 40931, 537...</td>\n",
       "      <td>[[18490, 116901, 8532, 42346, 123190, 22482], ...</td>\n",
       "    </tr>\n",
       "    <tr>\n",
       "      <th>4</th>\n",
       "      <td>4</td>\n",
       "      <td>5477</td>\n",
       "      <td>[59580, 75194, 75592, 40904, 54799, 45367, 410...</td>\n",
       "      <td>[[27009, 54574, 88505, 30236, 116628, 10236], ...</td>\n",
       "    </tr>\n",
       "  </tbody>\n",
       "</table>\n",
       "</div>"
      ],
      "text/plain": [
       "   Unnamed: 0  tour_id                                           teams_id  \\\n",
       "0           0     4628                                                 []   \n",
       "1           1     4957  [49804, 4109, 3875, 77418, 2, 45367, 4622, 417...   \n",
       "2           2     5151                                                 []   \n",
       "3           3     5414  [66120, 312, 2, 72338, 4032, 46381, 40931, 537...   \n",
       "4           4     5477  [59580, 75194, 75592, 40904, 54799, 45367, 410...   \n",
       "\n",
       "                                          members_id  \n",
       "0                                                 []  \n",
       "1  [[30152, 30270, 27822, 28751, 27403, 4270], [3...  \n",
       "2                                                 []  \n",
       "3  [[18490, 116901, 8532, 42346, 123190, 22482], ...  \n",
       "4  [[27009, 54574, 88505, 30236, 116628, 10236], ...  "
      ]
     },
     "execution_count": 3,
     "metadata": {},
     "output_type": "execute_result"
    }
   ],
   "source": [
    "tst.head()"
   ]
  },
  {
   "cell_type": "code",
   "execution_count": 4,
   "metadata": {},
   "outputs": [],
   "source": [
    "tst['teams_id'] = tst['teams_id'].apply(eval)"
   ]
  },
  {
   "cell_type": "code",
   "execution_count": 5,
   "metadata": {},
   "outputs": [],
   "source": [
    "tst['members_id'] = tst['members_id'].apply(eval)"
   ]
  },
  {
   "cell_type": "markdown",
   "metadata": {},
   "source": [
    "Функция для составления таблицы для трейна <br>\n",
    "в каждой строчке id турнира, id участника, id вопроса (id турнира + ' ' + номер вопроса), и результат ответа команды"
   ]
  },
  {
   "cell_type": "code",
   "execution_count": 8,
   "metadata": {},
   "outputs": [],
   "source": [
    "def make_table_pq(results, tour, nums):\n",
    "    res = []\n",
    "    for i in range(len(nums)):\n",
    "        result = results[nums[i]]\n",
    "        for j in range(len(result)):\n",
    "            if 'mask' in result[j] and result[j]['mask'] is not None and 'teamMembers' in result[j]:\n",
    "                for k in range(len(result[j]['teamMembers'])):\n",
    "                    for l in range(len(result[j]['mask'])):\n",
    "                        if result[j]['mask'][l].isdigit():\n",
    "                            res.append([])\n",
    "                            q_id = str(nums[i]) + ' ' + str(l)\n",
    "                            res[-1].append(nums[i])\n",
    "                            res[-1].append(result[j]['teamMembers'][k]['player']['id'])\n",
    "                            res[-1].append(q_id)\n",
    "                            res[-1].append(int(result[j]['mask'][l]))\n",
    "    print('end')\n",
    "    random.shuffle(res)\n",
    "    return pd.DataFrame(res, columns = ['tour_id', 'member_id', 'quest_id', 'results'])"
   ]
  },
  {
   "cell_type": "code",
   "execution_count": null,
   "metadata": {},
   "outputs": [],
   "source": [
    "#df = make_table_pq(results, tour, train_nums)"
   ]
  },
  {
   "cell_type": "code",
   "execution_count": 14,
   "metadata": {},
   "outputs": [],
   "source": [
    "#df.to_csv('file_2.csv')"
   ]
  },
  {
   "cell_type": "code",
   "execution_count": 6,
   "metadata": {},
   "outputs": [],
   "source": [
    "df = pd.read_csv('file_2.csv')"
   ]
  },
  {
   "cell_type": "code",
   "execution_count": 7,
   "metadata": {
    "scrolled": true
   },
   "outputs": [
    {
     "data": {
      "text/html": [
       "<div>\n",
       "<style scoped>\n",
       "    .dataframe tbody tr th:only-of-type {\n",
       "        vertical-align: middle;\n",
       "    }\n",
       "\n",
       "    .dataframe tbody tr th {\n",
       "        vertical-align: top;\n",
       "    }\n",
       "\n",
       "    .dataframe thead th {\n",
       "        text-align: right;\n",
       "    }\n",
       "</style>\n",
       "<table border=\"1\" class=\"dataframe\">\n",
       "  <thead>\n",
       "    <tr style=\"text-align: right;\">\n",
       "      <th></th>\n",
       "      <th>Unnamed: 0</th>\n",
       "      <th>tour_id</th>\n",
       "      <th>member_id</th>\n",
       "      <th>quest_id</th>\n",
       "      <th>results</th>\n",
       "    </tr>\n",
       "  </thead>\n",
       "  <tbody>\n",
       "    <tr>\n",
       "      <th>0</th>\n",
       "      <td>0</td>\n",
       "      <td>5915</td>\n",
       "      <td>202281</td>\n",
       "      <td>5915 10</td>\n",
       "      <td>1</td>\n",
       "    </tr>\n",
       "    <tr>\n",
       "      <th>1</th>\n",
       "      <td>1</td>\n",
       "      <td>5472</td>\n",
       "      <td>113703</td>\n",
       "      <td>5472 25</td>\n",
       "      <td>1</td>\n",
       "    </tr>\n",
       "    <tr>\n",
       "      <th>2</th>\n",
       "      <td>2</td>\n",
       "      <td>4986</td>\n",
       "      <td>169270</td>\n",
       "      <td>4986 6</td>\n",
       "      <td>0</td>\n",
       "    </tr>\n",
       "    <tr>\n",
       "      <th>3</th>\n",
       "      <td>3</td>\n",
       "      <td>5622</td>\n",
       "      <td>3608</td>\n",
       "      <td>5622 7</td>\n",
       "      <td>0</td>\n",
       "    </tr>\n",
       "    <tr>\n",
       "      <th>4</th>\n",
       "      <td>4</td>\n",
       "      <td>5563</td>\n",
       "      <td>135468</td>\n",
       "      <td>5563 19</td>\n",
       "      <td>1</td>\n",
       "    </tr>\n",
       "  </tbody>\n",
       "</table>\n",
       "</div>"
      ],
      "text/plain": [
       "   Unnamed: 0  tour_id  member_id quest_id  results\n",
       "0           0     5915     202281  5915 10        1\n",
       "1           1     5472     113703  5472 25        1\n",
       "2           2     4986     169270   4986 6        0\n",
       "3           3     5622       3608   5622 7        0\n",
       "4           4     5563     135468  5563 19        1"
      ]
     },
     "execution_count": 7,
     "metadata": {},
     "output_type": "execute_result"
    }
   ],
   "source": [
    "df.head()"
   ]
  },
  {
   "cell_type": "markdown",
   "metadata": {},
   "source": [
    "## 2 обучение baseline модели"
   ]
  },
  {
   "cell_type": "markdown",
   "metadata": {},
   "source": [
    "переведем признаки в OneHot представление"
   ]
  },
  {
   "cell_type": "code",
   "execution_count": 8,
   "metadata": {},
   "outputs": [],
   "source": [
    "enc = ohe()"
   ]
  },
  {
   "cell_type": "code",
   "execution_count": 9,
   "metadata": {},
   "outputs": [],
   "source": [
    "X = enc.fit_transform(np.array(df[['member_id', 'quest_id']]))"
   ]
  },
  {
   "cell_type": "code",
   "execution_count": 10,
   "metadata": {},
   "outputs": [
    {
     "data": {
      "text/plain": [
       "[array([15, 16, 23, ..., 224482, 224539, 224542], dtype=object),\n",
       " array(['4772 0', '4772 1', '4772 10', ..., '6255 97', '6255 98',\n",
       "        '6255 99'], dtype=object)]"
      ]
     },
     "execution_count": 10,
     "metadata": {},
     "output_type": "execute_result"
    }
   ],
   "source": [
    "enc.categories_"
   ]
  },
  {
   "cell_type": "code",
   "execution_count": 11,
   "metadata": {},
   "outputs": [],
   "source": [
    "y = np.array(df['results'])"
   ]
  },
  {
   "cell_type": "code",
   "execution_count": 12,
   "metadata": {},
   "outputs": [],
   "source": [
    "baseline = LogisticRegression()"
   ]
  },
  {
   "cell_type": "code",
   "execution_count": 13,
   "metadata": {},
   "outputs": [
    {
     "name": "stderr",
     "output_type": "stream",
     "text": [
      "C:\\Users\\Anaxagoras\\anaconda3\\lib\\site-packages\\sklearn\\linear_model\\_logistic.py:762: ConvergenceWarning: lbfgs failed to converge (status=1):\n",
      "STOP: TOTAL NO. of ITERATIONS REACHED LIMIT.\n",
      "\n",
      "Increase the number of iterations (max_iter) or scale the data as shown in:\n",
      "    https://scikit-learn.org/stable/modules/preprocessing.html\n",
      "Please also refer to the documentation for alternative solver options:\n",
      "    https://scikit-learn.org/stable/modules/linear_model.html#logistic-regression\n",
      "  n_iter_i = _check_optimize_result(\n"
     ]
    },
    {
     "data": {
      "text/plain": [
       "LogisticRegression()"
      ]
     },
     "execution_count": 13,
     "metadata": {},
     "output_type": "execute_result"
    }
   ],
   "source": [
    "baseline.fit(X, y)"
   ]
  },
  {
   "cell_type": "code",
   "execution_count": 75,
   "metadata": {},
   "outputs": [],
   "source": [
    "coefs = baseline.coef_.copy()[0]"
   ]
  },
  {
   "cell_type": "code",
   "execution_count": 76,
   "metadata": {},
   "outputs": [],
   "source": [
    "bias = baseline.intercept_[0]"
   ]
  },
  {
   "cell_type": "markdown",
   "metadata": {},
   "source": [
    "Тут словарик для удобного поиска номера в массиве коэффициентов по id участника"
   ]
  },
  {
   "cell_type": "code",
   "execution_count": 16,
   "metadata": {},
   "outputs": [],
   "source": [
    "enc_dict = dict()\n",
    "for i in range(len(enc.categories_[0])):\n",
    "    enc_dict[enc.categories_[0][i]] = i"
   ]
  },
  {
   "cell_type": "markdown",
   "metadata": {},
   "source": [
    "## 3 Оценивание результатов"
   ]
  },
  {
   "cell_type": "code",
   "execution_count": 17,
   "metadata": {},
   "outputs": [],
   "source": [
    "def sigm(x):\n",
    "    return (1 + np.exp(-x))**(-1)\n",
    "    return x"
   ]
  },
  {
   "cell_type": "markdown",
   "metadata": {},
   "source": [
    "Оценивание силы команды = среднее по предсказаниям <br>\n",
    "Пробовал другие способы (например брать max), но результаты были хуже"
   ]
  },
  {
   "cell_type": "code",
   "execution_count": 18,
   "metadata": {},
   "outputs": [],
   "source": [
    "def ev_team(members_lst, coefs, enc_dict):\n",
    "    power = 0\n",
    "    for i in range(len(members_lst)):\n",
    "        if members_lst[i] in enc_dict:\n",
    "            power += sigm(coefs[enc_dict[members_lst[i]]])\n",
    "        else:\n",
    "            power.append(sigm(random.choice(coefs)))\n",
    "    if len(members_lst) == 0:\n",
    "        print('kek')\n",
    "    return power / len(members_lst)\n",
    "        \n",
    "    "
   ]
  },
  {
   "cell_type": "markdown",
   "metadata": {},
   "source": [
    "Функция для подсчёта средней корреляции на тестовом множестве. <br>\n",
    "Тут сразу присутствует проверка на нормальное представление данных <br>\n",
    "Не считаются результаты по турнирам, где есть неизвестные люди; <br>\n",
    "Команы не должны быть пусты; <br>"
   ]
  },
  {
   "cell_type": "code",
   "execution_count": 72,
   "metadata": {},
   "outputs": [],
   "source": [
    "def evaluate(tst_table, coefs, enc_dict):\n",
    "    spear = []\n",
    "    cand = []\n",
    "    for i in range(len(tst_table)):\n",
    "        inf = tst_table.iloc[i]\n",
    "        if len(inf['teams_id']) == len(inf['members_id']) and len(inf['teams_id'])!=0:\n",
    "            flag = False\n",
    "            for memb in inf['members_id']:\n",
    "                if len(memb) == 0:\n",
    "                    flag = True\n",
    "                    break\n",
    "                else:\n",
    "                    for chel in memb: # оцениваем турниры с известными модели людьми\n",
    "                        if chel not in enc_dict:\n",
    "                            flag = True\n",
    "                            break\n",
    "            \n",
    "            if flag:\n",
    "                continue\n",
    "            ev = []\n",
    "            n_teams = len(inf['teams_id'])\n",
    "            for j in range(n_teams):\n",
    "                ev.append([j, ev_team(inf['members_id'][j], coefs, enc_dict)])\n",
    "            ev = sorted(ev, key=lambda x: x[1], reverse=True)\n",
    "            for j in range(n_teams):\n",
    "                ev[j] = ev[j][0]\n",
    "            cor = spearmanr(list(range(n_teams)), ev)[0]\n",
    "            if not math.isnan(cor):\n",
    "                spear.append(cor)\n",
    "            cor = kendalltau(list(range(n_teams)), ev)[0]\n",
    "            if not math.isnan(cor):\n",
    "                cand.append(cor)\n",
    "    return np.array(spear).mean(), np.array(cand).mean()"
   ]
  },
  {
   "cell_type": "code",
   "execution_count": 77,
   "metadata": {},
   "outputs": [
    {
     "data": {
      "text/plain": [
       "(0.7577547267249036, 0.6226004012234841)"
      ]
     },
     "execution_count": 77,
     "metadata": {},
     "output_type": "execute_result"
    }
   ],
   "source": [
    "evaluate(tst, coefs, enc_dict)"
   ]
  },
  {
   "cell_type": "markdown",
   "metadata": {},
   "source": [
    "Вот такая корреляция на тестовом множестве для baseline модели"
   ]
  },
  {
   "cell_type": "markdown",
   "metadata": {},
   "source": [
    "## 4 EM-алгоритм"
   ]
  },
  {
   "cell_type": "markdown",
   "metadata": {},
   "source": [
    "Я написал достаточно много формул, чтобы вывести этот алгоритм. Попытаюсь в кратце расписать мои рассуждения. <br>\n",
    "y = 1 значит команда ответила на вопрос <br>\n",
    "В команде несколько участников, и каждый участник мог ответить на этот вопрос или нет. При чём, если y = 1, то хоть один участник ответил на вопрос, если y = 0, то никто в команде не знает ответ на вопрос.<br>\n",
    "Можно ввести скрытую переменную z = 1, которая говорит, что участник ответил на этот вопрос. (у нас же таблица X имеет вид участник-вопрос-результат команды) <br>\n",
    "По сути правильно предсказывать $p(z=1|\\overline{x})$, а не $p(y=1|\\overline{x})$ как было сделано в baseline модели. <br>\n",
    "$p(y=0|\\overline{x},s=1) = p(y=0|z=1,s=1)*p(z=1|\\overline{x},s=1) + p(y=0|z=0,s=1)*p(z=0|\\overline{x},s=1)$ <br>\n",
    "Где s = 1 значит, что вопрос попал в выборку. (При рассуждениях за основу я взял идею из задачи про сусликов из лекции) <br>\n",
    "Первое слагаемое в сумме равно 0, так как $p(y=0|z=1,s=1) = 0$ <br>\n",
    "Получаем $p(y=0|\\overline{x},s=1) = \\frac{p(y=0,z=0|s=1)}{p(z=0|s=1)}p(z=0|\\overline{x},s=1)$ <br>\n",
    "Если положить что $n_n$ - вопросы, на которые игрок не ответил, а $n_u$ - мы не знаем исход , то придем к выражению \n",
    "$p(y=0|\\overline{x},s=1) = \\frac{n_n}{n_n+(1-\\pi)*n_u}*p(z=0|\\overline{x},s=1)$, где $\\pi$ - это $p(z=1)$ <br>\n",
    "По итогу ситуация получается как на лекции, только с другими поправками. <br>\n",
    "$n_n$ и $n_u$ - я считал для каждого игрока отдельно, поправку $ln\\frac{\\pi_0}{\\pi_1}$ прибавлял отдельно для каждого игрока.\n",
    "Игроки закодированы OneHot методом, и фактически поправку я прибавлял к весу игрока, так как в переменной всегда 1 и фактически то же самое, что и прибавлять к bias. Но опыты показали, что без поправки модель работает лучше. (выше метрика)"
   ]
  },
  {
   "cell_type": "code",
   "execution_count": 25,
   "metadata": {},
   "outputs": [],
   "source": [
    "def Estep(model, X, y):\n",
    "    z = sigm(model.predict(X)) * y\n",
    "    return z"
   ]
  },
  {
   "cell_type": "code",
   "execution_count": 63,
   "metadata": {},
   "outputs": [],
   "source": [
    "def Mstep(X, z, ohe, nums, pi):\n",
    "    z[z==0] += 0.05\n",
    "    soft_target = np.log(z / (1 - z))\n",
    "    new_model = LinearRegression()\n",
    "    new_model.fit(X, soft_target)\n",
    "    print('learning is over')\n",
    "    return new_model"
   ]
  },
  {
   "cell_type": "code",
   "execution_count": 64,
   "metadata": {},
   "outputs": [],
   "source": [
    "z1 = baseline.predict_proba(X)[::, 0] * y"
   ]
  },
  {
   "cell_type": "code",
   "execution_count": 38,
   "metadata": {},
   "outputs": [
    {
     "name": "stdout",
     "output_type": "stream",
     "text": [
      "learning is over\n"
     ]
    }
   ],
   "source": [
    "m = Mstep(X, z1, enc, nums, 0.5)"
   ]
  },
  {
   "cell_type": "code",
   "execution_count": 58,
   "metadata": {},
   "outputs": [
    {
     "name": "stdout",
     "output_type": "stream",
     "text": [
      "learning is over\n"
     ]
    }
   ],
   "source": [
    "for i in range(4):\n",
    "    z_n = Estep(m, X, y)\n",
    "    m = Mstep(X, z_n, enc, nums, 0.5)"
   ]
  },
  {
   "cell_type": "code",
   "execution_count": 78,
   "metadata": {},
   "outputs": [],
   "source": [
    "coefs = m.coef_"
   ]
  },
  {
   "cell_type": "code",
   "execution_count": 79,
   "metadata": {},
   "outputs": [
    {
     "data": {
      "text/plain": [
       "(0.7614571762975926, 0.6488630220316349)"
      ]
     },
     "execution_count": 79,
     "metadata": {},
     "output_type": "execute_result"
    }
   ],
   "source": [
    "evaluate(tst, coefs, enc_dict)"
   ]
  },
  {
   "cell_type": "markdown",
   "metadata": {},
   "source": [
    "Видно, что метрика растёт. Шаги я делал по отдельности (по одному и смотрел за результатом). А в конце просто поставил цикл. Сделал только 4 шага, так как обучается долго и я не мог больше ждать:)"
   ]
  }
 ],
 "metadata": {
  "kernelspec": {
   "display_name": "Python 3",
   "language": "python",
   "name": "python3"
  },
  "language_info": {
   "codemirror_mode": {
    "name": "ipython",
    "version": 3
   },
   "file_extension": ".py",
   "mimetype": "text/x-python",
   "name": "python",
   "nbconvert_exporter": "python",
   "pygments_lexer": "ipython3",
   "version": "3.8.5"
  }
 },
 "nbformat": 4,
 "nbformat_minor": 4
}
